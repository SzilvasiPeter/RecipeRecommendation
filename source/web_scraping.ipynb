{
 "cells": [
  {
   "cell_type": "code",
   "execution_count": 2,
   "metadata": {},
   "outputs": [],
   "source": [
    "from bs4 import BeautifulSoup"
   ]
  },
  {
   "cell_type": "markdown",
   "metadata": {},
   "source": [
    "Example for basic html scraping"
   ]
  },
  {
   "cell_type": "code",
   "execution_count": 3,
   "metadata": {},
   "outputs": [
    {
     "name": "stdout",
     "output_type": "stream",
     "text": [
      "Python for beginners costs 20$\n",
      "Python Web Development costs 50$\n",
      "Python Machine Learning costs 100$\n"
     ]
    }
   ],
   "source": [
    "with open('home.html', 'r') as html_file:\n",
    "    content = html_file.read()\n",
    "    \n",
    "    soup = BeautifulSoup(content, 'lxml')\n",
    "    course_cards = soup.find_all('div', class_='card')\n",
    "    for course in course_cards:\n",
    "        course_name = course.h5.text\n",
    "        course_price = course.a.text.split()[-1]\n",
    "\n",
    "        print(f'{course_name} costs {course_price}')\n"
   ]
  },
  {
   "cell_type": "markdown",
   "metadata": {},
   "source": [
    "Example for website scraping"
   ]
  },
  {
   "cell_type": "code",
   "execution_count": 25,
   "metadata": {},
   "outputs": [],
   "source": [
    "import requests\n",
    "from pathlib import Path\n",
    "\n",
    "def find_onsale_fruits_and_veggies(minimum_discount=0):\n",
    "    html_text = requests.get(f'https://tesco.hu/akciok/akcios-termekek/zoldseg-gyumolcs/?min={minimum_discount}&max=62').text\n",
    "    soup = BeautifulSoup(html_text, 'lxml')\n",
    "    onsale_fruitsveggies = soup.find_all('div', class_='a-productListing__productsGrid__element')\n",
    "    textfile = './onsale/fruits_veggies.txt'\n",
    "\n",
    "    my_file = Path(textfile)\n",
    "    print('File Exist: ' + str(my_file.is_file()))\n",
    "    if my_file.is_file() == False:\n",
    "        with open(textfile, mode='w', encoding=\"utf-8\") as f:\n",
    "            # TODO: add timestamp column\n",
    "            f.write(f'Name, Discount Precentage, Product Price, Product Currency, Minimum Discount\\n')\n",
    "\n",
    "    print(len(onsale_fruitsveggies))\n",
    "    for sale in onsale_fruitsveggies:\n",
    "        try:\n",
    "            name = sale.find('span', class_='product__name').text\n",
    "            discount_percentage = ' '.join(sale.find('div', class_='product__discount-percentage').text.split())\n",
    "            \n",
    "            price_wrapper = sale.find('div', class_='product__price-wrapper')\n",
    "            product_price = ' '.join(price_wrapper.find('div', class_='product__price').text.split())\n",
    "            product_currency = ' '.join(price_wrapper.find('div', class_='product__currency').text.split())\n",
    "            \n",
    "            link = sale.div.div.a['href']\n",
    "\n",
    "            with open(textfile, mode='a', encoding=\"utf-8\") as f:\n",
    "                f.write(f'{name}, {discount_percentage}, {product_price}, {product_currency}, {minimum_discount}\\n')\n",
    "                print(f'{name} is on {discount_percentage} sale {product_price} {product_currency}.')\n",
    "                print(link)\n",
    "                print('=======')\n",
    "        except AttributeError:\n",
    "            print('-------')\n",
    "            print(f'Error occured on {name}')\n",
    "            print('-------')"
   ]
  },
  {
   "cell_type": "code",
   "execution_count": 27,
   "metadata": {},
   "outputs": [
    {
     "name": "stdout",
     "output_type": "stream",
     "text": [
      "Minimum discount percentage: \n",
      "File Exist: True\n",
      "13\n",
      "Avokádó is on -42% sale 229 Ft/db.\n",
      "https://bevasarlas.tesco.hu/groceries/hu-HU/products/2004003261541\n",
      "=======\n",
      "Citrom is on -62% sale 299 Ft/kg.\n",
      "https://bevasarlas.tesco.hu/groceries/hu-HU/products/2004005763951\n",
      "=======\n",
      "Hegyes erős paprika is on -33% sale 79 Ft/db.\n",
      "https://bevasarlas.tesco.hu/groceries/hu-HU/products/2004003272936\n",
      "=======\n",
      "Hónapos retek is on -44% sale 139 Ft/cs.\n",
      "https://bevasarlas.tesco.hu/groceries/hu-HU/products/2004003330889\n",
      "=======\n",
      "Lila hagyma is on -37% sale 249 Ft/kg.\n",
      "https://bevasarlas.tesco.hu/groceries/hu-HU/products/2004006650663\n",
      "=======\n",
      "Magyar gála alma is on -50% sale 249 Ft/kg.\n",
      "https://bevasarlas.tesco.hu/groceries/hu-HU/products/2004003260414\n",
      "=======\n",
      "Avokádó is on -42% sale 229 Ft/db.\n",
      "https://bevasarlas.tesco.hu/groceries/hu-HU/products/2004003261541\n",
      "=======\n",
      "Citrom is on -62% sale 299 Ft/kg.\n",
      "https://bevasarlas.tesco.hu/groceries/hu-HU/products/2004005763951\n",
      "=======\n",
      "Hegyes erős paprika is on -33% sale 79 Ft/db.\n",
      "https://bevasarlas.tesco.hu/groceries/hu-HU/products/2004003272936\n",
      "=======\n",
      "Hónapos retek is on -44% sale 139 Ft/cs.\n",
      "https://bevasarlas.tesco.hu/groceries/hu-HU/products/2004003330889\n",
      "=======\n",
      "Lila hagyma is on -37% sale 249 Ft/kg.\n",
      "https://bevasarlas.tesco.hu/groceries/hu-HU/products/2004006650663\n",
      "=======\n",
      "Magyar gála alma is on -50% sale 249 Ft/kg.\n",
      "https://bevasarlas.tesco.hu/groceries/hu-HU/products/2004003260414\n",
      "=======\n",
      "Piros vagy sárga burgonya is on -35% sale 649 Ft.\n",
      "https://bevasarlas.tesco.hu/groceries/hu-HU/products/2004010779428\n",
      "=======\n",
      "Waiting 10 seconds...\n"
     ]
    }
   ],
   "source": [
    "import time\n",
    "\n",
    "print('Minimum discount percentage: ')\n",
    "minimum_discount = input('>')\n",
    "\n",
    "while(input('>') != 'q'):\n",
    "    find_onsale_fruits_and_veggies(minimum_discount)\n",
    "    waiting_time = 10\n",
    "    print(f'Waiting {waiting_time} seconds...')\n",
    "    time.sleep(waiting_time)\n"
   ]
  }
 ],
 "metadata": {
  "interpreter": {
   "hash": "ee8620fc1e6cbd0ddaa039d6a28552d62c987d5762574fbd0df048c874d38ea2"
  },
  "kernelspec": {
   "display_name": "Python 3.9.7 64-bit ('.venv': venv)",
   "language": "python",
   "name": "python3"
  },
  "language_info": {
   "codemirror_mode": {
    "name": "ipython",
    "version": 3
   },
   "file_extension": ".py",
   "mimetype": "text/x-python",
   "name": "python",
   "nbconvert_exporter": "python",
   "pygments_lexer": "ipython3",
   "version": "3.9.7"
  },
  "orig_nbformat": 4
 },
 "nbformat": 4,
 "nbformat_minor": 2
}
