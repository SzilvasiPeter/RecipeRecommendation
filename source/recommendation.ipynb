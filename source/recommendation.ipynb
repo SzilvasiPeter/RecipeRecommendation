{
 "cells": [
  {
   "cell_type": "code",
   "execution_count": 1,
   "metadata": {},
   "outputs": [],
   "source": [
    "import pandas as pd"
   ]
  },
  {
   "cell_type": "code",
   "execution_count": 42,
   "metadata": {},
   "outputs": [],
   "source": [
    "recipe_dataset = pd.read_csv('..\\datasets\\kaggle\\ingredients_v1.csv')\n",
    "recipe_dataset_without_na = recipe_dataset.dropna(subset=['features.value'])\n",
    "recipe_dataset_without_na = recipe_dataset_without_na[['name', 'features.value']].dropna()\n",
    "recipe_dataset_without_na.rename(columns={'features.value':'ingredients', 'name':'recipe'}, inplace=True)\n",
    "recipes = recipe_dataset_without_na[recipe_dataset_without_na['ingredients'].str.contains(',')]\n",
    "recipes.count()\n",
    "recipes.to_csv('recipes_cleaned.csv')"
   ]
  }
 ],
 "metadata": {
  "interpreter": {
   "hash": "ee8620fc1e6cbd0ddaa039d6a28552d62c987d5762574fbd0df048c874d38ea2"
  },
  "kernelspec": {
   "display_name": "Python 3.9.7 64-bit ('.venv': venv)",
   "language": "python",
   "name": "python3"
  },
  "language_info": {
   "codemirror_mode": {
    "name": "ipython",
    "version": 3
   },
   "file_extension": ".py",
   "mimetype": "text/x-python",
   "name": "python",
   "nbconvert_exporter": "python",
   "pygments_lexer": "ipython3",
   "version": "3.9.7"
  },
  "orig_nbformat": 4
 },
 "nbformat": 4,
 "nbformat_minor": 2
}
