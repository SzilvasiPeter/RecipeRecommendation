{
 "cells": [
  {
   "cell_type": "code",
   "execution_count": 1,
   "metadata": {},
   "outputs": [],
   "source": [
    "import pandas as pd"
   ]
  },
  {
   "cell_type": "code",
   "execution_count": 13,
   "metadata": {},
   "outputs": [
    {
     "data": {
      "text/plain": [
       "0          Dried Prunes,Water,Corn Syrup,Sugar,Pectin.\n",
       "1    Salt,Sugar,Molasses (Refinery Syrup, Molasses,...\n",
       "2    Salt, Yellow 5 Lake, Tricalcium Phosphate And ...\n",
       "3    Mechanically hulled seasame seeds.Allergy Info...\n",
       "4                                                FALSE\n",
       "Name: features.value, dtype: object"
      ]
     },
     "execution_count": 13,
     "metadata": {},
     "output_type": "execute_result"
    }
   ],
   "source": [
    "recipe_dataset = pd.read_csv('..\\datasets\\kaggle\\ingredients_v1.csv')\n",
    "recipe_dataset_without_na = recipe_dataset.dropna(subset=['features.value'])\n",
    "recipe_dataset_without_na.head()"
   ]
  }
 ],
 "metadata": {
  "interpreter": {
   "hash": "ee8620fc1e6cbd0ddaa039d6a28552d62c987d5762574fbd0df048c874d38ea2"
  },
  "kernelspec": {
   "display_name": "Python 3.9.7 64-bit ('.venv': venv)",
   "language": "python",
   "name": "python3"
  },
  "language_info": {
   "codemirror_mode": {
    "name": "ipython",
    "version": 3
   },
   "file_extension": ".py",
   "mimetype": "text/x-python",
   "name": "python",
   "nbconvert_exporter": "python",
   "pygments_lexer": "ipython3",
   "version": "3.9.7"
  },
  "orig_nbformat": 4
 },
 "nbformat": 4,
 "nbformat_minor": 2
}
