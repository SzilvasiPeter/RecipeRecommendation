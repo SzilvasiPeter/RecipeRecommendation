{
 "cells": [
  {
   "cell_type": "code",
   "execution_count": null,
   "metadata": {},
   "outputs": [],
   "source": [
    "import pandas as pd"
   ]
  },
  {
   "cell_type": "code",
   "execution_count": null,
   "metadata": {},
   "outputs": [],
   "source": [
    "df1 = pd.read_json(\"../datasets/recipebox/recipes_raw_nosource_epi.json\", orient='index')\n",
    "df2 = pd.read_json(\"../datasets/recipebox/recipes_raw_nosource_fn.json\", orient='index')\n",
    "df2.head()"
   ]
  },
  {
   "cell_type": "code",
   "execution_count": null,
   "metadata": {},
   "outputs": [],
   "source": [
    "# df1.count # 25323 rows x 4 columns\n",
    "# df2.count # 59802 rows x 4 columns"
   ]
  }
 ],
 "metadata": {
  "interpreter": {
   "hash": "ee8620fc1e6cbd0ddaa039d6a28552d62c987d5762574fbd0df048c874d38ea2"
  },
  "kernelspec": {
   "display_name": "Python 3.9.7 64-bit ('.venv': venv)",
   "language": "python",
   "name": "python3"
  },
  "language_info": {
   "codemirror_mode": {
    "name": "ipython",
    "version": 3
   },
   "file_extension": ".py",
   "mimetype": "text/x-python",
   "name": "python",
   "nbconvert_exporter": "python",
   "pygments_lexer": "ipython3",
   "version": "3.9.7"
  },
  "orig_nbformat": 4
 },
 "nbformat": 4,
 "nbformat_minor": 2
}
